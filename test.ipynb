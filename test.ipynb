{
 "cells": [
  {
   "cell_type": "code",
   "execution_count": null,
   "metadata": {},
   "outputs": [],
   "source": [
    "import torch\n",
    "from pprint import pprint\n",
    "ckpt = torch.load(\"runs/CIFAR10/normmlp/model.ckpt\")\n",
    "# ckpt = torch.load(\"runs/CIFAR10/8norm1mean/model.ckpt\")\n",
    "net = ckpt[\"net\"]\n",
    "pprint(list(net.keys()))"
   ]
  },
  {
   "cell_type": "code",
   "execution_count": null,
   "metadata": {},
   "outputs": [],
   "source": [
    "for i in range(10):\n",
    "    print(i)\n",
    "    print(net['features.'+str(i)+'.ex_norm.bn.running_var'])\n",
    "    print(net['features.'+str(i)+'.dw_norm.bn.running_var'])\n",
    "    print(net['features.'+str(i)+'.pw_norm.bn.running_var'])\n",
    "    print()"
   ]
  },
  {
   "cell_type": "code",
   "execution_count": null,
   "metadata": {},
   "outputs": [],
   "source": [
    "def check_norm(tensor):\n",
    "    if tensor.ndim == 1:\n",
    "        return tensor.abs().max() <= 1.0\n",
    "    else:\n",
    "        tensor = tensor.transpose(0, 1).flatten(1)\n",
    "        return tensor.abs().sum(dim=0).max() <= 1.0\n",
    "                \n",
    "for key in net.keys():\n",
    "    if \"weight\" in key:\n",
    "        if not check_norm(net[key]):\n",
    "            print(key, \"is not OK\")\n"
   ]
  },
  {
   "cell_type": "code",
   "execution_count": null,
   "metadata": {},
   "outputs": [],
   "source": [
    "print(net['features.0.ex.weight'].shape)"
   ]
  },
  {
   "cell_type": "code",
   "execution_count": null,
   "metadata": {},
   "outputs": [],
   "source": [
    "torch.linalg.vector_norm(net[\"features.0.ex.weight\"], ord=1, dim=1, keepdim=True).max()"
   ]
  },
  {
   "cell_type": "code",
   "execution_count": null,
   "metadata": {},
   "outputs": [],
   "source": [
    "net[\"features.0.ex.weight\"][1]"
   ]
  },
  {
   "cell_type": "code",
   "execution_count": null,
   "metadata": {},
   "outputs": [],
   "source": []
  }
 ],
 "metadata": {
  "kernelspec": {
   "display_name": "morpho",
   "language": "python",
   "name": "python3"
  },
  "language_info": {
   "codemirror_mode": {
    "name": "ipython",
    "version": 3
   },
   "file_extension": ".py",
   "mimetype": "text/x-python",
   "name": "python",
   "nbconvert_exporter": "python",
   "pygments_lexer": "ipython3",
   "version": "3.10.12"
  },
  "orig_nbformat": 4
 },
 "nbformat": 4,
 "nbformat_minor": 2
}
